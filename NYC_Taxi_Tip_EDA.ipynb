{
 "cells": [
  {
   "cell_type": "markdown",
   "metadata": {
    "application/vnd.databricks.v1+cell": {
     "cellMetadata": {
      "byteLimit": 2048000,
      "rowLimit": 10000
     },
     "inputWidgets": {},
     "nuid": "ce78f377-f4b6-4811-95ac-fc692ca7965a",
     "showTitle": false,
     "tableResultSettingsMap": {},
     "title": ""
    }
   },
   "source": [
    "# EDA on NYC Taxi Tip Data"
   ]
  },
  {
   "cell_type": "code",
   "execution_count": 0,
   "metadata": {
    "application/vnd.databricks.v1+cell": {
     "cellMetadata": {
      "byteLimit": 2048000,
      "rowLimit": 10000
     },
     "inputWidgets": {},
     "nuid": "662a23a6-5468-46bd-b198-c8b425eaec33",
     "showTitle": false,
     "tableResultSettingsMap": {},
     "title": ""
    }
   },
   "outputs": [],
   "source": [
    "# Load data\n",
    "from pyspark.sql import SparkSession\n",
    "\n",
    "spark = SparkSession.builder.appName(\"NYC Taxi Tip EDA\").getOrCreate()\n",
    "df = spark.read.csv(\"/FileStore/tables/NYC_Taxi_Trip_Record_Clean.csv\", header=True, inferSchema=True)\n",
    "df.cache()"
   ]
  },
  {
   "cell_type": "code",
   "execution_count": 0,
   "metadata": {
    "application/vnd.databricks.v1+cell": {
     "cellMetadata": {
      "byteLimit": 2048000,
      "rowLimit": 10000
     },
     "inputWidgets": {},
     "nuid": "a11bb702-6539-43eb-97b8-914a50a163f8",
     "showTitle": false,
     "tableResultSettingsMap": {},
     "title": ""
    }
   },
   "outputs": [],
   "source": [
    "# 2. \n",
    "df.printSchema()"
   ]
  },
  {
   "cell_type": "code",
   "execution_count": 0,
   "metadata": {
    "application/vnd.databricks.v1+cell": {
     "cellMetadata": {
      "byteLimit": 2048000,
      "rowLimit": 10000
     },
     "inputWidgets": {},
     "nuid": "df59cd48-fcc5-425b-aa4b-485f16d3420f",
     "showTitle": false,
     "tableResultSettingsMap": {},
     "title": ""
    }
   },
   "outputs": [],
   "source": [
    "\n",
    "df.show(5)"
   ]
  },
  {
   "cell_type": "code",
   "execution_count": 0,
   "metadata": {
    "application/vnd.databricks.v1+cell": {
     "cellMetadata": {
      "byteLimit": 2048000,
      "rowLimit": 10000
     },
     "inputWidgets": {},
     "nuid": "6097bc09-58dd-4dfa-b818-f6acc6d84295",
     "showTitle": false,
     "tableResultSettingsMap": {},
     "title": ""
    }
   },
   "outputs": [],
   "source": [
    "\n",
    "df.count()"
   ]
  },
  {
   "cell_type": "code",
   "execution_count": 0,
   "metadata": {
    "application/vnd.databricks.v1+cell": {
     "cellMetadata": {
      "byteLimit": 2048000,
      "rowLimit": 10000
     },
     "inputWidgets": {},
     "nuid": "b59f5a60-b327-411b-8b72-67c4c4ecaa4e",
     "showTitle": false,
     "tableResultSettingsMap": {},
     "title": ""
    }
   },
   "outputs": [],
   "source": [
    "# 5. Get summary statistics (count, mean, stddev, min, max) of numeric columns?\n",
    "\n",
    "df.describe().show()"
   ]
  },
  {
   "cell_type": "code",
   "execution_count": 0,
   "metadata": {
    "application/vnd.databricks.v1+cell": {
     "cellMetadata": {
      "byteLimit": 2048000,
      "rowLimit": 10000
     },
     "inputWidgets": {},
     "nuid": "8965f8cf-2966-462a-baa6-ca7b8f85785e",
     "showTitle": false,
     "tableResultSettingsMap": {},
     "title": ""
    }
   },
   "outputs": [],
   "source": [
    "# 6. Calculate average tip amount grouped by passenger count\n",
    "# TODO: Write the code to answer the above question\n",
    "\n",
    "from pyspark.sql.functions import avg\n",
    "\n",
    "# Assuming your DataFrame is named `df`\n",
    "avg_tip_by_passenger = df.groupBy(\"passenger_count\").agg(avg(\"tip_amount\").alias(\"average_tip\"))\n",
    "\n",
    "avg_tip_by_passenger.orderBy(\"passenger_count\").show()\n"
   ]
  },
  {
   "cell_type": "code",
   "execution_count": 0,
   "metadata": {
    "application/vnd.databricks.v1+cell": {
     "cellMetadata": {
      "byteLimit": 2048000,
      "rowLimit": 10000
     },
     "inputWidgets": {},
     "nuid": "13fc4a0d-1623-469e-9acb-2e28310a3a7a",
     "showTitle": false,
     "tableResultSettingsMap": {},
     "title": ""
    }
   },
   "outputs": [],
   "source": [
    "# 7. Calculate total tip amount by payment type\n",
    "# TODO: Write the code to answer the above question\n",
    "\n",
    "from pyspark.sql.functions import sum\n",
    "\n",
    "# Group by payment_type and sum the tip_amount\n",
    "total_tip_by_payment = df.groupBy(\"payment_type\").agg(sum(\"tip_amount\").alias(\"total_tip_amount\"))\n",
    "\n",
    "# Show results\n",
    "total_tip_by_payment.orderBy(\"total_tip_amount\", ascending=False).show()\n",
    "\n"
   ]
  },
  {
   "cell_type": "code",
   "execution_count": 0,
   "metadata": {
    "application/vnd.databricks.v1+cell": {
     "cellMetadata": {
      "byteLimit": 2048000,
      "rowLimit": 10000
     },
     "inputWidgets": {},
     "nuid": "76b067b2-8f66-43eb-bf04-eb3398756ff2",
     "showTitle": false,
     "tableResultSettingsMap": {},
     "title": ""
    }
   },
   "outputs": [],
   "source": [
    "# 8. Display records where the tip amount is greater than 5\n",
    "# TODO: Write the code to answer the above question\n",
    "\n",
    "df.filter(df.tip_amount > 5).show()\n",
    "\n"
   ]
  },
  {
   "cell_type": "code",
   "execution_count": 0,
   "metadata": {
    "application/vnd.databricks.v1+cell": {
     "cellMetadata": {
      "byteLimit": 2048000,
      "rowLimit": 10000
     },
     "inputWidgets": {},
     "nuid": "4fab10d5-8960-4384-9e68-9dc7ab7671d1",
     "showTitle": false,
     "tableResultSettingsMap": {},
     "title": ""
    }
   },
   "outputs": [],
   "source": [
    "# 9. Identify outliers where tip amount is greater than 50?\n",
    "# TODO: Write the code to answer the above question\n",
    "\n",
    "# Filter records where tip_amount > 50\n",
    "outliers = df.filter(df.tip_amount > 50)\n",
    "\n",
    "# Display them\n",
    "outliers.select(\"lpep_pickup_datetime\", \"tip_amount\", \"fare_amount\", \"passenger_count\", \"payment_type\", \"trip_distance\").show()\n",
    "\n"
   ]
  },
  {
   "cell_type": "code",
   "execution_count": 0,
   "metadata": {
    "application/vnd.databricks.v1+cell": {
     "cellMetadata": {
      "byteLimit": 2048000,
      "rowLimit": 10000
     },
     "inputWidgets": {},
     "nuid": "74bcc884-1362-4b5b-bf45-631adb58adee",
     "showTitle": false,
     "tableResultSettingsMap": {},
     "title": ""
    }
   },
   "outputs": [],
   "source": [
    "# 10. How to calculate the correlation between trip distance and tip amount?\n",
    "# TODO: Write the code to answer the above question\n",
    "correlation = df.corr(\"trip_distance\", \"tip_amount\")\n",
    "print(f\"Correlation between trip_distance and tip_amount: {correlation}\")\n"
   ]
  },
  {
   "cell_type": "code",
   "execution_count": 0,
   "metadata": {
    "application/vnd.databricks.v1+cell": {
     "cellMetadata": {
      "byteLimit": 2048000,
      "rowLimit": 10000
     },
     "inputWidgets": {},
     "nuid": "372e31d4-ff89-4973-a7ec-2ca5ca097fa4",
     "showTitle": false,
     "tableResultSettingsMap": {},
     "title": ""
    }
   },
   "outputs": [],
   "source": [
    "# 11. Get average tip amount by day of the week\n",
    "# TODO: Write the code to answer the above question\n",
    "\n",
    "from pyspark.sql.functions import avg, date_format, expr\n",
    "\n",
    "df.withColumn(\"day_of_week\", date_format(\"lpep_pickup_datetime\", \"EEEE\")) \\\n",
    "  .groupBy(\"day_of_week\") \\\n",
    "  .agg(avg(\"tip_amount\").alias(\"average_tip\")) \\\n",
    "  .withColumn(\"day_order\", expr(\"\"\"\n",
    "      CASE day_of_week\n",
    "          WHEN 'Sunday' THEN 1\n",
    "          WHEN 'Monday' THEN 2\n",
    "          WHEN 'Tuesday' THEN 3\n",
    "          WHEN 'Wednesday' THEN 4\n",
    "          WHEN 'Thursday' THEN 5\n",
    "          WHEN 'Friday' THEN 6\n",
    "          WHEN 'Saturday' THEN 7\n",
    "      END\n",
    "  \"\"\")) \\\n",
    "  .orderBy(\"day_order\") \\\n",
    "  .select(\"day_of_week\", \"average_tip\") \\\n",
    "  .show()\n"
   ]
  },
  {
   "cell_type": "code",
   "execution_count": 0,
   "metadata": {
    "application/vnd.databricks.v1+cell": {
     "cellMetadata": {
      "byteLimit": 2048000,
      "rowLimit": 10000
     },
     "inputWidgets": {},
     "nuid": "19289c80-7818-4136-94f9-7bf1385a9b71",
     "showTitle": false,
     "tableResultSettingsMap": {},
     "title": ""
    }
   },
   "outputs": [],
   "source": [
    "# 12. Get average tip amount by hour of the day\n",
    "# TODO: Write the code to answer the above question\n",
    "\n",
    "from pyspark.sql.functions import hour, avg\n",
    "\n",
    "df.withColumn(\"pickup_hour\", hour(\"lpep_pickup_datetime\")) \\\n",
    "  .groupBy(\"pickup_hour\") \\\n",
    "  .agg(avg(\"tip_amount\").alias(\"average_tip\")) \\\n",
    "  .orderBy(\"pickup_hour\") \\\n",
    "  .show()\n"
   ]
  },
  {
   "cell_type": "code",
   "execution_count": 0,
   "metadata": {
    "application/vnd.databricks.v1+cell": {
     "cellMetadata": {
      "byteLimit": 2048000,
      "rowLimit": 10000
     },
     "inputWidgets": {},
     "nuid": "d99669a6-dcfe-434c-8c47-0eabccd4cea5",
     "showTitle": false,
     "tableResultSettingsMap": {},
     "title": ""
    }
   },
   "outputs": [],
   "source": [
    "# 13. Calculate tip amount per mile and describe its statistics\n",
    "# TODO: Write the code to answer the above question\n",
    "\n",
    "from pyspark.sql.functions import col\n",
    "\n",
    "# Calculate tip per mile, avoiding division by zero\n",
    "df_with_tip_per_mile = df.withColumn(\"tip_per_mile\", col(\"tip_amount\") / col(\"trip_distance\"))\n",
    "\n",
    "# Filter out invalid or infinite values (e.g., zero distance)\n",
    "df_filtered = df_with_tip_per_mile.filter((col(\"trip_distance\") > 0) & (col(\"tip_amount\") >= 0))\n",
    "\n",
    "# Describe statistics of tip per mile\n",
    "df_filtered.select(\"tip_per_mile\").describe().show()\n"
   ]
  },
  {
   "cell_type": "code",
   "execution_count": 0,
   "metadata": {
    "application/vnd.databricks.v1+cell": {
     "cellMetadata": {
      "byteLimit": 2048000,
      "rowLimit": 10000
     },
     "inputWidgets": {},
     "nuid": "f1fd595a-31f0-40f4-87d8-d6502c19e429",
     "showTitle": false,
     "tableResultSettingsMap": {},
     "title": ""
    }
   },
   "outputs": [],
   "source": [
    "# 14. Get records with invalid fare or tip amounts. Then remove these invalid records from dataframe (make it clean)\n",
    "# TODO: Write the code to answer the above question\n",
    "\n",
    "from pyspark.sql.functions import col\n",
    "\n",
    "# Identify invalid records where fare or tip amount is negative or missing (NULL)\n",
    "invalid_records = df.filter((col(\"fare_amount\") < 0) | (col(\"tip_amount\") < 0) | col(\"fare_amount\").isNull() | col(\"tip_amount\").isNull())\n",
    "\n",
    "# Show invalid records\n",
    "invalid_records.show()\n",
    "\n",
    "# Remove invalid records from the DataFrame\n",
    "clean_df = df.filter((col(\"fare_amount\") >= 0) & (col(\"tip_amount\") >= 0) & col(\"fare_amount\").isNotNull() & col(\"tip_amount\").isNotNull())\n",
    "\n",
    "# Show cleaned DataFrame (optional: to verify)\n",
    "clean_df.show()\n"
   ]
  },
  {
   "cell_type": "code",
   "execution_count": 0,
   "metadata": {
    "application/vnd.databricks.v1+cell": {
     "cellMetadata": {
      "byteLimit": 2048000,
      "rowLimit": 10000
     },
     "inputWidgets": {},
     "nuid": "cb6761a3-0906-4dce-8208-ccbadb9a191e",
     "showTitle": false,
     "tableResultSettingsMap": {},
     "title": ""
    }
   },
   "outputs": [],
   "source": [
    "# 15. Calculate average tip by vendor ID\n",
    "# TODO: Write the code to answer the above question\n",
    "#calculate avg tip by trip time (changed ques)\n",
    "from pyspark.sql.functions import avg\n",
    "\n",
    "# Calculate average tip by PUZone (Pickup Zone)\n",
    "avg_tip_by_pu_zone = df.groupBy(\"PUZone\").agg(avg(\"tip_amount\").alias(\"average_tip\"))\n",
    "\n",
    "# Show the result\n",
    "avg_tip_by_pu_zone.show()\n",
    "\n"
   ]
  },
  {
   "cell_type": "code",
   "execution_count": 0,
   "metadata": {
    "application/vnd.databricks.v1+cell": {
     "cellMetadata": {
      "byteLimit": 2048000,
      "rowLimit": 10000
     },
     "inputWidgets": {},
     "nuid": "5afba576-69fd-4747-9fe6-2d52db83c9fe",
     "showTitle": false,
     "tableResultSettingsMap": {},
     "title": ""
    }
   },
   "outputs": [],
   "source": [
    "# 16. Get average tip amount per hour. Show graph as visualization\n",
    "# TODO: Write the code to answer the above question\n",
    "\n",
    "from pyspark.sql.functions import hour, avg\n",
    "\n",
    "# Calculate the hour of the day from the pickup time and compute the average tip amount\n",
    "avg_tip_per_hour = df.withColumn(\"pickup_hour\", hour(\"lpep_pickup_datetime\")) \\\n",
    "  .groupBy(\"pickup_hour\") \\\n",
    "  .agg(avg(\"tip_amount\").alias(\"average_tip\")) \\\n",
    "  .orderBy(\"pickup_hour\")\n",
    "\n",
    "# Display the result as a graph\n",
    "display(avg_tip_per_hour)\n",
    "\n"
   ]
  },
  {
   "cell_type": "code",
   "execution_count": 0,
   "metadata": {
    "application/vnd.databricks.v1+cell": {
     "cellMetadata": {
      "byteLimit": 2048000,
      "rowLimit": 10000
     },
     "inputWidgets": {},
     "nuid": "c39d2e39-63e0-49c0-9f6b-f707768c52b9",
     "showTitle": false,
     "tableResultSettingsMap": {},
     "title": ""
    }
   },
   "outputs": [],
   "source": [
    "# 17. Get average tip by passenger count and display as bar chart\n",
    "# TODO: Write the code to answer the above question\n",
    "\n",
    "from pyspark.sql.functions import avg\n",
    "\n",
    "# Group by passenger count and calculate the average tip amount\n",
    "avg_tip_by_passenger_count = df.groupBy(\"passenger_count\").agg(avg(\"tip_amount\").alias(\"average_tip\"))\n",
    "\n",
    "# Display the result as a bar chart\n",
    "display(avg_tip_by_passenger_count)\n"
   ]
  },
  {
   "cell_type": "code",
   "execution_count": 0,
   "metadata": {
    "application/vnd.databricks.v1+cell": {
     "cellMetadata": {
      "byteLimit": 2048000,
      "rowLimit": 10000
     },
     "inputWidgets": {},
     "nuid": "b56f1139-afa0-4b2c-9073-4792d3ed30de",
     "showTitle": false,
     "tableResultSettingsMap": {},
     "title": ""
    }
   },
   "outputs": [],
   "source": [
    "# 18. Get fare vs tip values and display scatter plot style visualization\n",
    "# TODO: Write the code to answer the above question\n",
    "\n",
    "# Select the fare_amount and tip_amount columns\n",
    "fare_vs_tip = df.select(\"fare_amount\", \"tip_amount\")\n",
    "# Display as a scatter plot\n",
    "display(fare_vs_tip)\n"
   ]
  },
  {
   "cell_type": "code",
   "execution_count": 0,
   "metadata": {
    "application/vnd.databricks.v1+cell": {
     "cellMetadata": {
      "byteLimit": 2048000,
      "rowLimit": 10000
     },
     "inputWidgets": {},
     "nuid": "840eb124-b8fa-496c-9ca5-f17c0542c537",
     "showTitle": false,
     "tableResultSettingsMap": {},
     "title": ""
    }
   },
   "outputs": [],
   "source": []
  }
 ],
 "metadata": {
  "application/vnd.databricks.v1+notebook": {
   "computePreferences": null,
   "dashboards": [],
   "environmentMetadata": null,
   "inputWidgetPreferences": null,
   "language": "python",
   "notebookMetadata": {
    "pythonIndentUnit": 4
   },
   "notebookName": "NYC_Taxi_Tip_EDA",
   "widgets": {}
  }
 },
 "nbformat": 4,
 "nbformat_minor": 0
}