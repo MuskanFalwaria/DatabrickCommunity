{
 "cells": [
  {
   "cell_type": "markdown",
   "metadata": {
    "application/vnd.databricks.v1+cell": {
     "cellMetadata": {},
     "inputWidgets": {},
     "nuid": "ff039c57-72fa-4f8a-9d6b-98a8b631bc65",
     "showTitle": false,
     "tableResultSettingsMap": {},
     "title": ""
    }
   },
   "source": [
    "# Flipkart EDA assignment\n",
    "\n",
    "## TODO: Upload csv file before moving to next"
   ]
  },
  {
   "cell_type": "code",
   "execution_count": 0,
   "metadata": {
    "application/vnd.databricks.v1+cell": {
     "cellMetadata": {
      "byteLimit": 2048000,
      "rowLimit": 10000
     },
     "inputWidgets": {},
     "nuid": "f85ef81f-2729-4c6f-9e71-f6bc1b6a2e16",
     "showTitle": false,
     "tableResultSettingsMap": {},
     "title": ""
    }
   },
   "outputs": [],
   "source": [
    "from pyspark.sql import SparkSession\n",
    "\n",
    "spark = SparkSession.builder.appName(\"Flipkart Data Engineering\").getOrCreate()\n",
    "file_path = '/FileStore/tables/Flipkart.csv'\n",
    "flipkart_df = spark.read.csv(file_path, header=True, inferSchema=True)"
   ]
  },
  {
   "cell_type": "code",
   "execution_count": 0,
   "metadata": {
    "application/vnd.databricks.v1+cell": {
     "cellMetadata": {
      "byteLimit": 2048000,
      "rowLimit": 10000
     },
     "inputWidgets": {},
     "nuid": "04e1f417-47f7-4c0f-9705-565eda51063a",
     "showTitle": false,
     "tableResultSettingsMap": {},
     "title": ""
    }
   },
   "outputs": [
    {
     "output_type": "stream",
     "name": "stdout",
     "output_type": "stream",
     "text": [
      "root\n |-- id: integer (nullable = true)\n |-- title: string (nullable = true)\n |-- Rating: double (nullable = true)\n |-- maincateg: string (nullable = true)\n |-- platform: string (nullable = true)\n |-- actprice1: integer (nullable = true)\n |-- norating1: integer (nullable = true)\n |-- noreviews1: integer (nullable = true)\n |-- star_5f: integer (nullable = true)\n |-- star_4f: integer (nullable = true)\n |-- star_3f: integer (nullable = true)\n |-- star_2f: integer (nullable = true)\n |-- star_1f: integer (nullable = true)\n |-- fulfilled1: integer (nullable = true)\n\nOut[2]: 5244"
     ]
    }
   ],
   "source": [
    "flipkart_df.printSchema()\n",
    "flipkart_df.count()"
   ]
  },
  {
   "cell_type": "code",
   "execution_count": 0,
   "metadata": {
    "application/vnd.databricks.v1+cell": {
     "cellMetadata": {
      "byteLimit": 2048000,
      "rowLimit": 10000
     },
     "inputWidgets": {},
     "nuid": "da7dcb8e-203d-406c-85ba-35260e705574",
     "showTitle": false,
     "tableResultSettingsMap": {},
     "title": ""
    }
   },
   "outputs": [
    {
     "output_type": "stream",
     "name": "stdout",
     "output_type": "stream",
     "text": [
      "+-----+--------------------+------+---------+--------+---------+---------+----------+-------+-------+-------+-------+-------+----------+\n|   id|               title|Rating|maincateg|platform|actprice1|norating1|noreviews1|star_5f|star_4f|star_3f|star_2f|star_1f|fulfilled1|\n+-----+--------------------+------+---------+--------+---------+---------+----------+-------+-------+-------+-------+-------+----------+\n| 2242|Casuals For Men  ...|   3.8|      Men|Flipkart|      999|    27928|      3543|  14238|   4295|   3457|   1962|   3976|         1|\n|20532|Women Black Flats...|   3.9|    Women|Flipkart|      499|     3015|       404|   1458|    657|    397|    182|    321|         1|\n|10648|Women Gold Wedges...|   3.9|    Women|Flipkart|      999|      449|        52|    229|     70|     71|     33|     46|         1|\n|20677|Men's Height Incr...|   3.9|      Men|Flipkart|     2999|      290|        40|    141|     51|     49|     17|     32|         1|\n|12593|Loafers For Men  ...|   3.9|      Men|Flipkart|      999|     2423|       326|   1265|    414|    293|    143|    308|         0|\n+-----+--------------------+------+---------+--------+---------+---------+----------+-------+-------+-------+-------+-------+----------+\nonly showing top 5 rows\n\n"
     ]
    }
   ],
   "source": [
    "flipkart_df.show(5)"
   ]
  },
  {
   "cell_type": "markdown",
   "metadata": {
    "application/vnd.databricks.v1+cell": {
     "cellMetadata": {},
     "inputWidgets": {},
     "nuid": "081f82e7-1600-4a4e-b03a-fbd7503b0cbc",
     "showTitle": false,
     "tableResultSettingsMap": {},
     "title": ""
    }
   },
   "source": []
  },
  {
   "cell_type": "code",
   "execution_count": 0,
   "metadata": {
    "application/vnd.databricks.v1+cell": {
     "cellMetadata": {
      "byteLimit": 2048000,
      "rowLimit": 10000
     },
     "inputWidgets": {},
     "nuid": "073d6b31-c900-41a6-aa3f-ae38495448b8",
     "showTitle": false,
     "tableResultSettingsMap": {},
     "title": ""
    }
   },
   "outputs": [
    {
     "output_type": "stream",
     "name": "stdout",
     "output_type": "stream",
     "text": [
      "Out[7]: ['id',\n 'title',\n 'Rating',\n 'maincateg',\n 'platform',\n 'actprice1',\n 'norating1',\n 'noreviews1',\n 'star_5f',\n 'star_4f',\n 'star_3f',\n 'star_2f',\n 'star_1f',\n 'fulfilled1']"
     ]
    }
   ],
   "source": [
    "# Display all category names\n",
    "flipkart_df.columns"
   ]
  },
  {
   "cell_type": "code",
   "execution_count": 0,
   "metadata": {
    "application/vnd.databricks.v1+cell": {
     "cellMetadata": {
      "byteLimit": 2048000,
      "rowLimit": 10000
     },
     "inputWidgets": {},
     "nuid": "bce154ae-ea22-4e83-aa68-a50e89a41a8c",
     "showTitle": false,
     "tableResultSettingsMap": {},
     "title": ""
    }
   },
   "outputs": [
    {
     "output_type": "stream",
     "name": "stdout",
     "output_type": "stream",
     "text": [
      "+-----+--------------------+------+---------+--------+---------+---------+----------+-------+-------+-------+-------+-------+----------+\n|   id|               title|Rating|maincateg|platform|actprice1|norating1|noreviews1|star_5f|star_4f|star_3f|star_2f|star_1f|fulfilled1|\n+-----+--------------------+------+---------+--------+---------+---------+----------+-------+-------+-------+-------+-------+----------+\n| 3205|     SFG-23 Slippers|   4.1|      Men|Flipkart|      319|    12936|      1598|   7030|   2850|   1453|    587|   1016|         1|\n|15762|Running Shoes For...|   4.1|      Men|Flipkart|      999|    57372|      8254|  32715|  10686|   6362|   2806|   4803|         0|\n| 7561|Men Navy Sports S...|   4.2|      Men|Flipkart|      499|    17035|      2103|   9223|   4219|   1888|    614|   1091|         1|\n|11078|Men Black Clogs S...|   4.2|      Men|Flipkart|     2995|    12390|      1098|   6891|   3100|   1035|    429|    935|         1|\n|13206|Perfect Stylish,T...|   4.2|    Women|Flipkart|      999|     6884|      1175|   4221|   1274|    624|    282|    483|         0|\n|15926|Perfect Stylish G...|   4.3|    Women|Flipkart|      999|    10481|      1530|   6224|   2259|   1049|    370|    579|         1|\n|20079|Bouncer-01 Runnin...|   4.1|      Men|Flipkart|      999|    11780|      1748|   6343|   2501|   1268|    644|   1024|         1|\n|19353|ROYCE-2 Running S...|   4.2|      Men|Flipkart|     1049|    49102|      7249|  27267|  11914|   4923|   1871|   3127|         1|\n| 6247|Jio-13 Running Sh...|   4.1|      Men|Flipkart|      599|   289972|     45448| 151193|  74037|  34978|  11705|  18060|         1|\n| 9532|Icon IDP Sneakers...|   4.1|      Men|Flipkart|     3299|    19411|      2666|  10805|   4412|   1786|    714|   1694|         1|\n|18032|sports shoes for ...|   4.1|      Men|Flipkart|      999|    30687|      3748|  17616|   5205|   3257|   1716|   2893|         1|\n|17823|Riya-04 Grey Peac...|   4.1|    Women|Flipkart|      539|     8942|      1335|   4618|   2374|   1066|    340|    546|         1|\n|11676|Walking Shoes,Gym...|   4.1|      Men|Flipkart|      999|    33288|      4969|  16627|   8306|   4327|   1521|   2507|         1|\n|15320|Jio-13 Running Sh...|   4.1|      Men|Flipkart|      599|   289914|     45443| 151159|  74025|  34972|  11700|  18056|         1|\n|20654|Running Shoes For...|   4.1|      Men|Flipkart|      999|    30687|      3748|  17616|   5205|   3257|   1716|   2893|         1|\n|14974|Elasto-02 Grey Bl...|   4.2|    Women|Flipkart|     1499|    34650|      5095|  18680|   9745|   3350|   1074|   1803|         1|\n| 2739|Women Casual Boot...|   4.2|    Women|Flipkart|      999|    19873|      3453|  10813|   4803|   2230|    760|   1267|         1|\n| 8735|Women Black Flats...|   4.2|    Women|Flipkart|      999|    12080|      1559|   6552|   3010|   1402|    475|    641|         1|\n| 4524|Shearling Party W...|   4.1|    Women|Flipkart|      999|     5549|      1011|   2986|   1315|    630|    212|    410|         1|\n| 9898|Men Navy Sports S...|   4.1|      Men|Flipkart|      699|    15989|      2144|   7953|   4143|   1919|    756|   1218|         1|\n+-----+--------------------+------+---------+--------+---------+---------+----------+-------+-------+-------+-------+-------+----------+\nonly showing top 20 rows\n\n"
     ]
    }
   ],
   "source": [
    "# Filter products with rating > 4.0 and more than 1000 reviews\n",
    "\n",
    "filtered_df = flipkart_df.filter((flipkart_df[\"Rating\"] > 4.0) & (flipkart_df[\"noreviews1\"] > 1000))\n",
    "\n",
    "# Show the results\n",
    "filtered_df.show()"
   ]
  },
  {
   "cell_type": "code",
   "execution_count": 0,
   "metadata": {
    "application/vnd.databricks.v1+cell": {
     "cellMetadata": {
      "byteLimit": 2048000,
      "rowLimit": 10000
     },
     "inputWidgets": {},
     "nuid": "5ea8891d-773f-432e-a72e-4692bd97fc47",
     "showTitle": false,
     "tableResultSettingsMap": {},
     "title": ""
    }
   },
   "outputs": [
    {
     "output_type": "stream",
     "name": "stdout",
     "output_type": "stream",
     "text": [
      "+---------+----------+\n|maincateg|fulfilled1|\n+---------+----------+\n|      Men|         1|\n|      Men|         1|\n|      Men|         1|\n|      Men|         1|\n|      Men|         1|\n|      Men|         1|\n|      Men|         1|\n|      Men|         1|\n|      Men|         1|\n|      Men|         1|\n|      Men|         1|\n|      Men|         1|\n|      Men|         1|\n|      Men|         1|\n|      Men|         1|\n|      Men|         1|\n|      Men|         1|\n|      Men|         1|\n|      Men|         1|\n|      Men|         1|\n+---------+----------+\nonly showing top 20 rows\n\n"
     ]
    }
   ],
   "source": [
    "# Display Products in 'Men' category that are fulfilled\n",
    "men_fulfilled_df = flipkart_df.select(\"maincateg\",\"fulfilled1\").filter((flipkart_df[\"maincateg\"] == \"Men\") & (flipkart_df[\"fulfilled1\"] == 1))\n",
    "men_fulfilled_df.show()"
   ]
  },
  {
   "cell_type": "code",
   "execution_count": 0,
   "metadata": {
    "application/vnd.databricks.v1+cell": {
     "cellMetadata": {
      "byteLimit": 2048000,
      "rowLimit": 10000
     },
     "inputWidgets": {},
     "nuid": "1be257d2-da3f-4ae7-b1ff-42ef6c42c3d3",
     "showTitle": false,
     "tableResultSettingsMap": {},
     "title": ""
    }
   },
   "outputs": [
    {
     "output_type": "stream",
     "name": "stdout",
     "output_type": "stream",
     "text": [
      "+---------+-----+\n|maincateg|count|\n+---------+-----+\n|     null|   67|\n|      Men| 2145|\n|    Women| 3032|\n+---------+-----+\n\n"
     ]
    }
   ],
   "source": [
    "# Dsiplay number of products per category\n",
    "flipkart_df.groupBy(\"maincateg\").count().show()\n"
   ]
  },
  {
   "cell_type": "code",
   "execution_count": 0,
   "metadata": {
    "application/vnd.databricks.v1+cell": {
     "cellMetadata": {
      "byteLimit": 2048000,
      "rowLimit": 10000
     },
     "inputWidgets": {},
     "nuid": "93ff00c4-69d0-46ba-ad68-3c43aaffadcc",
     "showTitle": false,
     "tableResultSettingsMap": {},
     "title": ""
    }
   },
   "outputs": [
    {
     "output_type": "stream",
     "name": "stdout",
     "output_type": "stream",
     "text": [
      "+---------+------------------+\n|maincateg|    average_rating|\n+---------+------------------+\n|     null|             4.225|\n|      Men|3.9662970106075246|\n|    Women|4.0416582064297915|\n+---------+------------------+\n\n"
     ]
    }
   ],
   "source": [
    "# Display Average rating per category\n",
    "from pyspark.sql.functions import avg\n",
    "flipkart_df.groupBy(\"maincateg\").agg(avg(\"Rating\").alias(\"average_rating\")).show()"
   ]
  },
  {
   "cell_type": "code",
   "execution_count": 0,
   "metadata": {
    "application/vnd.databricks.v1+cell": {
     "cellMetadata": {
      "byteLimit": 2048000,
      "rowLimit": 10000
     },
     "inputWidgets": {},
     "nuid": "0cdf490d-3760-4c51-ad65-a4178ffab849",
     "showTitle": false,
     "tableResultSettingsMap": {},
     "title": ""
    }
   },
   "outputs": [
    {
     "output_type": "stream",
     "name": "stdout",
     "output_type": "stream",
     "text": [
      "+---------+-----------------+\n|maincateg|      Avg_reviews|\n+---------+-----------------+\n|      Men|759.6554778554779|\n+---------+-----------------+\nonly showing top 1 row\n\n"
     ]
    }
   ],
   "source": [
    "# Dsiplay Category with highest average number of reviews\n",
    "from pyspark.sql.functions import avg\n",
    "flipkart_df.groupBy(\"maincateg\").agg(avg(\"noreviews1\").alias(\"Avg_reviews\")).orderBy(\"Avg_reviews\",ascending=False).show(1)"
   ]
  },
  {
   "cell_type": "code",
   "execution_count": 0,
   "metadata": {
    "application/vnd.databricks.v1+cell": {
     "cellMetadata": {
      "byteLimit": 2048000,
      "rowLimit": 10000
     },
     "inputWidgets": {},
     "nuid": "b4272bbe-8813-4eaf-a55d-35c01d621e30",
     "showTitle": false,
     "tableResultSettingsMap": {},
     "title": ""
    }
   },
   "outputs": [
    {
     "output_type": "stream",
     "name": "stdout",
     "output_type": "stream",
     "text": [
      "+--------------------+---------+\n|               title|actprice1|\n+--------------------+---------+\n|GEL-QUANTUM 360 K...|    15999|\n|Women Orange Spor...|    12999|\n|Hybrid Astro Runn...|    10999|\n|GT-2000 5 (D) Run...|    10999|\n|DEERUPT RUNNER W ...|     9999|\n+--------------------+---------+\nonly showing top 5 rows\n\n"
     ]
    }
   ],
   "source": [
    "# Top 5 products with highest price. display product name and price\n",
    "from pyspark.sql.functions import desc\n",
    "flipkart_df.orderBy(desc(\"actprice1\")).select(\"title\",\"actprice1\").show(5)"
   ]
  },
  {
   "cell_type": "code",
   "execution_count": 0,
   "metadata": {
    "application/vnd.databricks.v1+cell": {
     "cellMetadata": {
      "byteLimit": 2048000,
      "rowLimit": 10000
     },
     "inputWidgets": {},
     "nuid": "9353cba2-7ba1-4189-841a-84ed79cdec43",
     "showTitle": false,
     "tableResultSettingsMap": {},
     "title": ""
    }
   },
   "outputs": [
    {
     "output_type": "stream",
     "name": "stdout",
     "output_type": "stream",
     "text": [
      "+---------+---------+---------+------------------+\n|maincateg|min_price|min_price|         min_price|\n+---------+---------+---------+------------------+\n|     null|      499|     5999|1574.7313432835822|\n|      Men|      139|    10999|  1455.86013986014|\n|    Women|      162|    15999|1319.7081134564644|\n+---------+---------+---------+------------------+\n\n"
     ]
    }
   ],
   "source": [
    "# Display Min, max, and avg price per category\n",
    "from pyspark.sql.functions import min,max,avg\n",
    "flipkart_df.groupBy('maincateg').agg(min('actprice1').alias('min_price'),max('actprice1').alias('min_price'),avg('actprice1').alias('min_price')).show()"
   ]
  },
  {
   "cell_type": "code",
   "execution_count": 0,
   "metadata": {
    "application/vnd.databricks.v1+cell": {
     "cellMetadata": {
      "byteLimit": 2048000,
      "rowLimit": 10000
     },
     "inputWidgets": {},
     "nuid": "c51e0a9a-e452-41b2-9405-308d4e18f746",
     "showTitle": false,
     "tableResultSettingsMap": {},
     "title": ""
    }
   },
   "outputs": [
    {
     "output_type": "stream",
     "name": "stdout",
     "output_type": "stream",
     "text": [
      "+---+-----+------+---------+--------+---------+---------+----------+-------+-------+-------+-------+-------+----------+\n| id|title|Rating|maincateg|platform|actprice1|norating1|noreviews1|star_5f|star_4f|star_3f|star_2f|star_1f|fulfilled1|\n+---+-----+------+---------+--------+---------+---------+----------+-------+-------+-------+-------+-------+----------+\n|  0|    0|   203|       67|       0|        0|        0|         0|     68|      0|      0|      0|    186|         0|\n+---+-----+------+---------+--------+---------+---------+----------+-------+-------+-------+-------+-------+----------+\n\n"
     ]
    }
   ],
   "source": [
    "# Display number of nulls in each column\n",
    "from pyspark.sql.functions import col, sum, when\n",
    "null_counts = flipkart_df.select([sum(when(col(c).isNull(), 1).otherwise(0)).alias(c) for c in flipkart_df.columns]).show()"
   ]
  },
  {
   "cell_type": "code",
   "execution_count": 0,
   "metadata": {
    "application/vnd.databricks.v1+cell": {
     "cellMetadata": {
      "byteLimit": 2048000,
      "rowLimit": 10000
     },
     "inputWidgets": {},
     "nuid": "c8c8a3b3-3917-4e67-a0a2-0afebfcc4736",
     "showTitle": false,
     "tableResultSettingsMap": {},
     "title": ""
    }
   },
   "outputs": [
    {
     "output_type": "stream",
     "name": "stdout",
     "output_type": "stream",
     "text": [
      "+---------+---------+-----------+\n|maincateg|Fulfilled|Unfulfilled|\n+---------+---------+-----------+\n|     null|       40|         27|\n|      Men|     1352|        793|\n|    Women|     1778|       1254|\n+---------+---------+-----------+\n\n"
     ]
    }
   ],
   "source": [
    "# calculate and display the category name, number of fulfilled, and unfulfilled products\n",
    "flipkart_df.groupBy(\"maincateg\").agg(\n",
    "    count(when(col(\"fulfilled1\") == \"1\", True)).alias(\"Fulfilled\"),\n",
    "    count(when(col(\"fulfilled1\") != \"1\", True)).alias(\"Unfulfilled\")\n",
    ").show()"
   ]
  },
  {
   "cell_type": "code",
   "execution_count": 0,
   "metadata": {
    "application/vnd.databricks.v1+cell": {
     "cellMetadata": {
      "byteLimit": 2048000,
      "rowLimit": 10000
     },
     "inputWidgets": {},
     "nuid": "a3415a3d-43c4-4e6a-acc7-e6afe16276da",
     "showTitle": false,
     "tableResultSettingsMap": {},
     "title": ""
    }
   },
   "outputs": [
    {
     "output_type": "display_data",
     "data": {
      "text/html": [
       "<style scoped>\n",
       "  .table-result-container {\n",
       "    max-height: 300px;\n",
       "    overflow: auto;\n",
       "  }\n",
       "  table, th, td {\n",
       "    border: 1px solid black;\n",
       "    border-collapse: collapse;\n",
       "  }\n",
       "  th, td {\n",
       "    padding: 5px;\n",
       "  }\n",
       "  th {\n",
       "    text-align: left;\n",
       "  }\n",
       "</style><div class='table-result-container'><table class='table-result'><thead style='background-color: white'><tr><th>maincateg</th><th>count</th></tr></thead><tbody><tr><td>null</td><td>67</td></tr><tr><td>Men</td><td>2145</td></tr><tr><td>Women</td><td>3032</td></tr></tbody></table></div>"
      ]
     },
     "metadata": {
      "application/vnd.databricks.v1+output": {
       "addedWidgets": {},
       "aggData": [],
       "aggError": "",
       "aggOverflow": false,
       "aggSchema": [],
       "aggSeriesLimitReached": false,
       "aggType": "",
       "arguments": {},
       "columnCustomDisplayInfos": {},
       "data": [
        [
         null,
         67
        ],
        [
         "Men",
         2145
        ],
        [
         "Women",
         3032
        ]
       ],
       "datasetInfos": [],
       "dbfsResultPath": null,
       "isJsonSchema": true,
       "metadata": {},
       "overflow": false,
       "plotOptions": {
        "customPlotOptions": {},
        "displayType": "table",
        "pivotAggregation": null,
        "pivotColumns": null,
        "xColumns": null,
        "yColumns": null
       },
       "removedWidgets": [],
       "schema": [
        {
         "metadata": "{}",
         "name": "maincateg",
         "type": "\"string\""
        },
        {
         "metadata": "{}",
         "name": "count",
         "type": "\"long\""
        }
       ],
       "type": "table"
      }
     },
     "output_type": "display_data"
    }
   ],
   "source": [
    "# Display Count of products per category\n",
    "display(flipkart_df.groupBy(\"maincateg\").count())"
   ]
  },
  {
   "cell_type": "code",
   "execution_count": 0,
   "metadata": {
    "application/vnd.databricks.v1+cell": {
     "cellMetadata": {
      "byteLimit": 2048000,
      "rowLimit": 10000
     },
     "inputWidgets": {},
     "nuid": "85467739-d609-44d2-b40f-0e7b6657bea1",
     "showTitle": false,
     "tableResultSettingsMap": {},
     "title": ""
    }
   },
   "outputs": [
    {
     "output_type": "display_data",
     "data": {
      "text/html": [
       "<style scoped>\n",
       "  .table-result-container {\n",
       "    max-height: 300px;\n",
       "    overflow: auto;\n",
       "  }\n",
       "  table, th, td {\n",
       "    border: 1px solid black;\n",
       "    border-collapse: collapse;\n",
       "  }\n",
       "  th, td {\n",
       "    padding: 5px;\n",
       "  }\n",
       "  th {\n",
       "    text-align: left;\n",
       "  }\n",
       "</style><div class='table-result-container'><table class='table-result'><thead style='background-color: white'><tr><th>maincateg</th><th>average_rating</th></tr></thead><tbody><tr><td>null</td><td>4.225</td></tr><tr><td>Men</td><td>3.9662970106075246</td></tr><tr><td>Women</td><td>4.0416582064297915</td></tr></tbody></table></div>"
      ]
     },
     "metadata": {
      "application/vnd.databricks.v1+output": {
       "addedWidgets": {},
       "aggData": [],
       "aggError": "",
       "aggOverflow": false,
       "aggSchema": [],
       "aggSeriesLimitReached": false,
       "aggType": "",
       "arguments": {},
       "columnCustomDisplayInfos": {},
       "data": [
        [
         null,
         4.225
        ],
        [
         "Men",
         3.9662970106075246
        ],
        [
         "Women",
         4.0416582064297915
        ]
       ],
       "datasetInfos": [],
       "dbfsResultPath": null,
       "isJsonSchema": true,
       "metadata": {},
       "overflow": false,
       "plotOptions": {
        "customPlotOptions": {},
        "displayType": "table",
        "pivotAggregation": null,
        "pivotColumns": null,
        "xColumns": null,
        "yColumns": null
       },
       "removedWidgets": [],
       "schema": [
        {
         "metadata": "{}",
         "name": "maincateg",
         "type": "\"string\""
        },
        {
         "metadata": "{}",
         "name": "average_rating",
         "type": "\"double\""
        }
       ],
       "type": "table"
      }
     },
     "output_type": "display_data"
    }
   ],
   "source": [
    "# Display Average rating per category\n",
    "from pyspark.sql.functions import avg\n",
    "display(flipkart_df.groupBy(\"maincateg\").agg(avg(\"Rating\").alias(\"average_rating\")))"
   ]
  },
  {
   "cell_type": "code",
   "execution_count": 0,
   "metadata": {
    "application/vnd.databricks.v1+cell": {
     "cellMetadata": {
      "byteLimit": 2048000,
      "rowLimit": 10000
     },
     "inputWidgets": {},
     "nuid": "6eba27e0-bc8a-46df-9bed-4453f6ed45c5",
     "showTitle": false,
     "tableResultSettingsMap": {},
     "title": ""
    }
   },
   "outputs": [
    {
     "output_type": "display_data",
     "data": {
      "text/html": [
       "<style scoped>\n",
       "  .table-result-container {\n",
       "    max-height: 300px;\n",
       "    overflow: auto;\n",
       "  }\n",
       "  table, th, td {\n",
       "    border: 1px solid black;\n",
       "    border-collapse: collapse;\n",
       "  }\n",
       "  th, td {\n",
       "    padding: 5px;\n",
       "  }\n",
       "  th {\n",
       "    text-align: left;\n",
       "  }\n",
       "</style><div class='table-result-container'><table class='table-result'><thead style='background-color: white'><tr><th>maincateg</th><th>Avg_reviews</th></tr></thead><tbody><tr><td>Men</td><td>759.6554778554779</td></tr></tbody></table></div>"
      ]
     },
     "metadata": {
      "application/vnd.databricks.v1+output": {
       "addedWidgets": {},
       "aggData": [],
       "aggError": "",
       "aggOverflow": false,
       "aggSchema": [],
       "aggSeriesLimitReached": false,
       "aggType": "",
       "arguments": {},
       "columnCustomDisplayInfos": {},
       "data": [
        [
         "Men",
         759.6554778554779
        ]
       ],
       "datasetInfos": [],
       "dbfsResultPath": null,
       "isJsonSchema": true,
       "metadata": {},
       "overflow": false,
       "plotOptions": {
        "customPlotOptions": {},
        "displayType": "table",
        "pivotAggregation": null,
        "pivotColumns": null,
        "xColumns": null,
        "yColumns": null
       },
       "removedWidgets": [],
       "schema": [
        {
         "metadata": "{}",
         "name": "maincateg",
         "type": "\"string\""
        },
        {
         "metadata": "{}",
         "name": "Avg_reviews",
         "type": "\"double\""
        }
       ],
       "type": "table"
      }
     },
     "output_type": "display_data"
    }
   ],
   "source": [
    "# Display Category with highest average number of reviews\n",
    "from pyspark.sql.functions import avg\n",
    "display(flipkart_df.groupBy(\"maincateg\").agg(avg(\"noreviews1\").alias(\"Avg_reviews\")).orderBy(\"Avg_reviews\",ascending=False).limit(1))"
   ]
  },
  {
   "cell_type": "code",
   "execution_count": 0,
   "metadata": {
    "application/vnd.databricks.v1+cell": {
     "cellMetadata": {
      "byteLimit": 2048000,
      "rowLimit": 10000
     },
     "inputWidgets": {},
     "nuid": "c001b8e8-6be4-4119-9a78-70778d6924d5",
     "showTitle": false,
     "tableResultSettingsMap": {},
     "title": ""
    }
   },
   "outputs": [
    {
     "output_type": "display_data",
     "data": {
      "text/html": [
       "<style scoped>\n",
       "  .table-result-container {\n",
       "    max-height: 300px;\n",
       "    overflow: auto;\n",
       "  }\n",
       "  table, th, td {\n",
       "    border: 1px solid black;\n",
       "    border-collapse: collapse;\n",
       "  }\n",
       "  th, td {\n",
       "    padding: 5px;\n",
       "  }\n",
       "  th {\n",
       "    text-align: left;\n",
       "  }\n",
       "</style><div class='table-result-container'><table class='table-result'><thead style='background-color: white'><tr><th>maincateg</th><th>count</th></tr></thead><tbody><tr><td>null</td><td>67</td></tr><tr><td>Men</td><td>2145</td></tr><tr><td>Women</td><td>3032</td></tr></tbody></table></div>"
      ]
     },
     "metadata": {
      "application/vnd.databricks.v1+output": {
       "addedWidgets": {},
       "aggData": [],
       "aggError": "",
       "aggOverflow": false,
       "aggSchema": [],
       "aggSeriesLimitReached": false,
       "aggType": "",
       "arguments": {},
       "columnCustomDisplayInfos": {},
       "data": [
        [
         null,
         67
        ],
        [
         "Men",
         2145
        ],
        [
         "Women",
         3032
        ]
       ],
       "datasetInfos": [],
       "dbfsResultPath": null,
       "isJsonSchema": true,
       "metadata": {},
       "overflow": false,
       "plotOptions": {
        "customPlotOptions": {},
        "displayType": "table",
        "pivotAggregation": null,
        "pivotColumns": null,
        "xColumns": null,
        "yColumns": null
       },
       "removedWidgets": [],
       "schema": [
        {
         "metadata": "{}",
         "name": "maincateg",
         "type": "\"string\""
        },
        {
         "metadata": "{}",
         "name": "count",
         "type": "\"long\""
        }
       ],
       "type": "table"
      }
     },
     "output_type": "display_data"
    },
    {
     "output_type": "display_data",
     "data": {
      "text/plain": [
       "Databricks visualization. Run in Databricks to view."
      ]
     },
     "metadata": {
      "application/vnd.databricks.v1.subcommand+json": {
       "baseErrorDetails": null,
       "bindings": {},
       "collapsed": false,
       "command": "%python\n__backend_agg_display_orig = display\n__backend_agg_dfs = []\ndef __backend_agg_display_new(df):\n    __backend_agg_df_modules = [\"pandas.core.frame\", \"databricks.koalas.frame\", \"pyspark.sql.dataframe\", \"pyspark.pandas.frame\", \"pyspark.sql.connect.dataframe\"]\n    if (type(df).__module__ in __backend_agg_df_modules and type(df).__name__ == 'DataFrame') or isinstance(df, list):\n        __backend_agg_dfs.append(df)\n\ndisplay = __backend_agg_display_new\n\ndef __backend_agg_user_code_fn():\n    import base64\n    exec(base64.standard_b64decode(\"IyBEaXNwbGF5IEJhciBjaGFydCBvZiBwcm9kdWN0IGNvdW50IHBlciBjYXRlZ29yeQoKIyBVc2UgRGF0YWJyaWNrcyBVSSB0byB2aXN1YWxpemUgdGhpcyBhcyBhIGJhciBjaGFydApkaXNwbGF5KGZsaXBrYXJ0X2RmLmdyb3VwQnkoJ21haW5jYXRlZycpLmNvdW50KCkpCg==\").decode())\n\ntry:\n    # run user code\n    __backend_agg_user_code_fn()\n\n    #reset display function\n    display = __backend_agg_display_orig\n\n    if len(__backend_agg_dfs) > 0:\n        # create a temp view\n        if type(__backend_agg_dfs[0]).__module__ == \"databricks.koalas.frame\":\n            # koalas dataframe\n            __backend_agg_dfs[0].to_spark().createOrReplaceTempView(\"DatabricksViewba4b082\")\n        elif type(__backend_agg_dfs[0]).__module__ == \"pandas.core.frame\" or isinstance(__backend_agg_dfs[0], list):\n            # pandas dataframe\n            spark.createDataFrame(__backend_agg_dfs[0]).createOrReplaceTempView(\"DatabricksViewba4b082\")\n        else:\n            __backend_agg_dfs[0].createOrReplaceTempView(\"DatabricksViewba4b082\")\n        #run backend agg\n        display(spark.sql(\"\"\"WITH q AS (select * from DatabricksViewba4b082) SELECT `maincateg`,SUM(`count`) `column_3447e740184` FROM q GROUP BY `maincateg`\"\"\"))\n    else:\n        displayHTML(\"dataframe no longer exists. If you're using dataframe.display(), use display(dataframe) instead.\")\n\n\nfinally:\n    spark.sql(\"drop view if exists DatabricksViewba4b082\")\n    display = __backend_agg_display_orig\n    del __backend_agg_display_new\n    del __backend_agg_display_orig\n    del __backend_agg_dfs\n    del __backend_agg_user_code_fn\n\n",
       "commandTitle": "Visualization 1",
       "commandType": "auto",
       "commandVersion": 0,
       "commentThread": [],
       "commentsVisible": false,
       "contentSha256Hex": null,
       "customPlotOptions": {
        "redashChart": [
         {
          "key": "type",
          "value": "CHART"
         },
         {
          "key": "options",
          "value": {
           "alignYAxesAtZero": true,
           "coefficient": 1,
           "columnConfigurationMap": {
            "x": {
             "column": "maincateg",
             "id": "column_3447e740183"
            },
            "y": [
             {
              "column": "count",
              "id": "column_3447e740184",
              "transform": "SUM"
             }
            ]
           },
           "dateTimeFormat": "DD/MM/YYYY HH:mm",
           "direction": {
            "type": "counterclockwise"
           },
           "error_y": {
            "type": "data",
            "visible": true
           },
           "globalSeriesType": "column",
           "isAggregationOn": true,
           "legend": {
            "traceorder": "normal"
           },
           "missingValuesAsZero": true,
           "numberFormat": "0,0.[00000]",
           "percentFormat": "0[.]00%",
           "series": {
            "error_y": {
             "type": "data",
             "visible": true
            },
            "stacking": null
           },
           "seriesOptions": {
            "column_3447e740184": {
             "color": "#A58AFF",
             "name": "count",
             "yAxis": 0
            }
           },
           "showDataLabels": false,
           "sizemode": "diameter",
           "sortX": true,
           "sortY": true,
           "swappedAxes": false,
           "textFormat": "",
           "useAggregationsUi": true,
           "valuesOptions": {},
           "version": 2,
           "xAxis": {
            "labels": {
             "enabled": true
            },
            "type": "-"
           },
           "yAxis": [
            {
             "type": "-"
            },
            {
             "opposite": true,
             "type": "-"
            }
           ]
          }
         }
        ]
       },
       "datasetPreviewNameToCmdIdMap": {},
       "diffDeletes": [],
       "diffInserts": [],
       "displayType": "redashChart",
       "error": null,
       "errorDetails": null,
       "errorSummary": null,
       "errorTraceType": null,
       "finishTime": 0,
       "globalVars": {},
       "guid": "",
       "height": "auto",
       "hideCommandCode": false,
       "hideCommandResult": false,
       "iPythonMetadata": null,
       "inputWidgets": {},
       "isLockedInExamMode": false,
       "latestUser": "a user",
       "latestUserId": null,
       "listResultMetadata": null,
       "metadata": {},
       "nuid": "5f970291-9764-416f-b236-32f2d8ff01dc",
       "origId": 0,
       "parentHierarchy": [],
       "pivotAggregation": null,
       "pivotColumns": null,
       "position": 18.0,
       "resultDbfsErrorMessage": null,
       "resultDbfsStatus": "INLINED_IN_TREE",
       "results": null,
       "showCommandTitle": false,
       "startTime": 0,
       "state": "input",
       "streamStates": {},
       "subcommandOptions": {
        "queryPlan": {
         "groups": [
          {
           "column": "maincateg",
           "type": "column"
          }
         ],
         "selects": [
          {
           "column": "maincateg",
           "type": "column"
          },
          {
           "alias": "column_3447e740184",
           "args": [
            {
             "column": "count",
             "type": "column"
            }
           ],
           "function": "SUM",
           "type": "function"
          }
         ]
        }
       },
       "submitTime": 0,
       "subtype": "tableResultSubCmd.visualization",
       "tableResultIndex": 0,
       "tableResultSettingsMap": {},
       "useConsistentColors": false,
       "version": "CommandV1",
       "width": "auto",
       "workflows": [],
       "xColumns": null,
       "yColumns": null
      }
     },
     "output_type": "display_data"
    }
   ],
   "source": [
    "# Display Bar chart of product count per category\n",
    "\n",
    "# Use Databricks UI to visualize this as a bar chart\n",
    "display(flipkart_df.groupBy(\"maincateg\").count())\n"
   ]
  },
  {
   "cell_type": "code",
   "execution_count": 0,
   "metadata": {
    "application/vnd.databricks.v1+cell": {
     "cellMetadata": {
      "byteLimit": 2048000,
      "rowLimit": 10000
     },
     "inputWidgets": {},
     "nuid": "65523498-d55d-4d54-ad4c-176710c38055",
     "showTitle": false,
     "tableResultSettingsMap": {},
     "title": ""
    }
   },
   "outputs": [
    {
     "output_type": "display_data",
     "data": {
      "text/html": [
       "<style scoped>\n",
       "  .table-result-container {\n",
       "    max-height: 300px;\n",
       "    overflow: auto;\n",
       "  }\n",
       "  table, th, td {\n",
       "    border: 1px solid black;\n",
       "    border-collapse: collapse;\n",
       "  }\n",
       "  th, td {\n",
       "    padding: 5px;\n",
       "  }\n",
       "  th {\n",
       "    text-align: left;\n",
       "  }\n",
       "</style><div class='table-result-container'><table class='table-result'><thead style='background-color: white'><tr><th>maincateg</th><th>average_rating</th></tr></thead><tbody><tr><td>null</td><td>4.225</td></tr><tr><td>Men</td><td>3.9662970106075246</td></tr><tr><td>Women</td><td>4.0416582064297915</td></tr></tbody></table></div>"
      ]
     },
     "metadata": {
      "application/vnd.databricks.v1+output": {
       "addedWidgets": {},
       "aggData": [],
       "aggError": "",
       "aggOverflow": false,
       "aggSchema": [],
       "aggSeriesLimitReached": false,
       "aggType": "",
       "arguments": {},
       "columnCustomDisplayInfos": {},
       "data": [
        [
         null,
         4.225
        ],
        [
         "Men",
         3.9662970106075246
        ],
        [
         "Women",
         4.0416582064297915
        ]
       ],
       "datasetInfos": [],
       "dbfsResultPath": null,
       "isJsonSchema": true,
       "metadata": {},
       "overflow": false,
       "plotOptions": {
        "customPlotOptions": {},
        "displayType": "table",
        "pivotAggregation": null,
        "pivotColumns": null,
        "xColumns": null,
        "yColumns": null
       },
       "removedWidgets": [],
       "schema": [
        {
         "metadata": "{}",
         "name": "maincateg",
         "type": "\"string\""
        },
        {
         "metadata": "{}",
         "name": "average_rating",
         "type": "\"double\""
        }
       ],
       "type": "table"
      }
     },
     "output_type": "display_data"
    },
    {
     "output_type": "display_data",
     "data": {
      "text/plain": [
       "Databricks visualization. Run in Databricks to view."
      ]
     },
     "metadata": {
      "application/vnd.databricks.v1.subcommand+json": {
       "baseErrorDetails": null,
       "bindings": {},
       "collapsed": false,
       "command": "%python\n__backend_agg_display_orig = display\n__backend_agg_dfs = []\ndef __backend_agg_display_new(df):\n    __backend_agg_df_modules = [\"pandas.core.frame\", \"databricks.koalas.frame\", \"pyspark.sql.dataframe\", \"pyspark.pandas.frame\", \"pyspark.sql.connect.dataframe\"]\n    if (type(df).__module__ in __backend_agg_df_modules and type(df).__name__ == 'DataFrame') or isinstance(df, list):\n        __backend_agg_dfs.append(df)\n\ndisplay = __backend_agg_display_new\n\ndef __backend_agg_user_code_fn():\n    import base64\n    exec(base64.standard_b64decode(\"IyBCYXIgY2hhcnQgb2YgYXZlcmFnZSByYXRpbmcgcGVyIGNhdGVnb3J5CmZyb20gcHlzcGFyay5zcWwuZnVuY3Rpb25zIGltcG9ydCBhdmcKZGlzcGxheShmbGlwa2FydF9kZi5ncm91cEJ5KCJtYWluY2F0ZWciKS5hZ2coYXZnKCJSYXRpbmciKS5hbGlhcygiYXZlcmFnZV9yYXRpbmciKSkp\").decode())\n\ntry:\n    # run user code\n    __backend_agg_user_code_fn()\n\n    #reset display function\n    display = __backend_agg_display_orig\n\n    if len(__backend_agg_dfs) > 0:\n        # create a temp view\n        if type(__backend_agg_dfs[0]).__module__ == \"databricks.koalas.frame\":\n            # koalas dataframe\n            __backend_agg_dfs[0].to_spark().createOrReplaceTempView(\"DatabricksView3051e43\")\n        elif type(__backend_agg_dfs[0]).__module__ == \"pandas.core.frame\" or isinstance(__backend_agg_dfs[0], list):\n            # pandas dataframe\n            spark.createDataFrame(__backend_agg_dfs[0]).createOrReplaceTempView(\"DatabricksView3051e43\")\n        else:\n            __backend_agg_dfs[0].createOrReplaceTempView(\"DatabricksView3051e43\")\n        #run backend agg\n        display(spark.sql(\"\"\"WITH q AS (select * from DatabricksView3051e43) SELECT `maincateg`,SUM(`average_rating`) `column_75172872149` FROM q GROUP BY `maincateg`\"\"\"))\n    else:\n        displayHTML(\"dataframe no longer exists. If you're using dataframe.display(), use display(dataframe) instead.\")\n\n\nfinally:\n    spark.sql(\"drop view if exists DatabricksView3051e43\")\n    display = __backend_agg_display_orig\n    del __backend_agg_display_new\n    del __backend_agg_display_orig\n    del __backend_agg_dfs\n    del __backend_agg_user_code_fn\n\n",
       "commandTitle": "Visualization 1",
       "commandType": "auto",
       "commandVersion": 0,
       "commentThread": [],
       "commentsVisible": false,
       "contentSha256Hex": null,
       "customPlotOptions": {
        "redashChart": [
         {
          "key": "type",
          "value": "CHART"
         },
         {
          "key": "options",
          "value": {
           "alignYAxesAtZero": true,
           "coefficient": 1,
           "columnConfigurationMap": {
            "x": {
             "column": "maincateg",
             "id": "column_75172872148"
            },
            "y": [
             {
              "column": "average_rating",
              "id": "column_75172872149",
              "transform": "SUM"
             }
            ]
           },
           "dateTimeFormat": "DD/MM/YYYY HH:mm",
           "direction": {
            "type": "counterclockwise"
           },
           "error_y": {
            "type": "data",
            "visible": true
           },
           "globalSeriesType": "column",
           "isAggregationOn": true,
           "legend": {
            "traceorder": "normal"
           },
           "missingValuesAsZero": true,
           "numberFormat": "0,0.[00000]",
           "percentFormat": "0[.]00%",
           "series": {
            "error_y": {
             "type": "data",
             "visible": true
            },
            "stacking": null
           },
           "seriesOptions": {
            "column_75172872149": {
             "color": "#799CFF",
             "name": "average_rating",
             "yAxis": 0
            }
           },
           "showDataLabels": false,
           "sizemode": "diameter",
           "sortX": true,
           "sortY": true,
           "swappedAxes": false,
           "textFormat": "",
           "useAggregationsUi": true,
           "valuesOptions": {},
           "version": 2,
           "xAxis": {
            "labels": {
             "enabled": true
            },
            "type": "-"
           },
           "yAxis": [
            {
             "type": "-"
            },
            {
             "opposite": true,
             "type": "-"
            }
           ]
          }
         }
        ]
       },
       "datasetPreviewNameToCmdIdMap": {},
       "diffDeletes": [],
       "diffInserts": [],
       "displayType": "redashChart",
       "error": null,
       "errorDetails": null,
       "errorSummary": null,
       "errorTraceType": null,
       "finishTime": 0,
       "globalVars": {},
       "guid": "",
       "height": "auto",
       "hideCommandCode": false,
       "hideCommandResult": false,
       "iPythonMetadata": null,
       "inputWidgets": {},
       "isLockedInExamMode": false,
       "latestUser": "a user",
       "latestUserId": null,
       "listResultMetadata": null,
       "metadata": {},
       "nuid": "5d263604-b1e1-4fe9-a17a-94240b40525d",
       "origId": 0,
       "parentHierarchy": [],
       "pivotAggregation": null,
       "pivotColumns": null,
       "position": 21.0,
       "resultDbfsErrorMessage": null,
       "resultDbfsStatus": "INLINED_IN_TREE",
       "results": null,
       "showCommandTitle": false,
       "startTime": 0,
       "state": "input",
       "streamStates": {},
       "subcommandOptions": {
        "queryPlan": {
         "groups": [
          {
           "column": "maincateg",
           "type": "column"
          }
         ],
         "selects": [
          {
           "column": "maincateg",
           "type": "column"
          },
          {
           "alias": "column_75172872149",
           "args": [
            {
             "column": "average_rating",
             "type": "column"
            }
           ],
           "function": "SUM",
           "type": "function"
          }
         ]
        }
       },
       "submitTime": 0,
       "subtype": "tableResultSubCmd.visualization",
       "tableResultIndex": 0,
       "tableResultSettingsMap": {},
       "useConsistentColors": false,
       "version": "CommandV1",
       "width": "auto",
       "workflows": [],
       "xColumns": null,
       "yColumns": null
      }
     },
     "output_type": "display_data"
    }
   ],
   "source": [
    "# Bar chart of average rating per category\n",
    "from pyspark.sql.functions import avg\n",
    "display(flipkart_df.groupBy(\"maincateg\").agg(avg(\"Rating\").alias(\"average_rating\")))"
   ]
  },
  {
   "cell_type": "code",
   "execution_count": 0,
   "metadata": {
    "application/vnd.databricks.v1+cell": {
     "cellMetadata": {
      "byteLimit": 2048000,
      "rowLimit": 10000
     },
     "inputWidgets": {},
     "nuid": "15834ac3-ae46-4f29-b638-331b68d137f1",
     "showTitle": false,
     "tableResultSettingsMap": {},
     "title": ""
    }
   },
   "outputs": [
    {
     "output_type": "display_data",
     "data": {
      "text/html": [
       "<style scoped>\n",
       "  .table-result-container {\n",
       "    max-height: 300px;\n",
       "    overflow: auto;\n",
       "  }\n",
       "  table, th, td {\n",
       "    border: 1px solid black;\n",
       "    border-collapse: collapse;\n",
       "  }\n",
       "  th, td {\n",
       "    padding: 5px;\n",
       "  }\n",
       "  th {\n",
       "    text-align: left;\n",
       "  }\n",
       "</style><div class='table-result-container'><table class='table-result'><thead style='background-color: white'><tr><th>maincateg</th><th>total_reviews</th></tr></thead><tbody><tr><td>null</td><td>14084</td></tr><tr><td>Men</td><td>1629461</td></tr><tr><td>Women</td><td>535290</td></tr></tbody></table></div>"
      ]
     },
     "metadata": {
      "application/vnd.databricks.v1+output": {
       "addedWidgets": {},
       "aggData": [],
       "aggError": "",
       "aggOverflow": false,
       "aggSchema": [],
       "aggSeriesLimitReached": false,
       "aggType": "",
       "arguments": {},
       "columnCustomDisplayInfos": {},
       "data": [
        [
         null,
         14084
        ],
        [
         "Men",
         1629461
        ],
        [
         "Women",
         535290
        ]
       ],
       "datasetInfos": [],
       "dbfsResultPath": null,
       "isJsonSchema": true,
       "metadata": {},
       "overflow": false,
       "plotOptions": {
        "customPlotOptions": {},
        "displayType": "table",
        "pivotAggregation": null,
        "pivotColumns": null,
        "xColumns": null,
        "yColumns": null
       },
       "removedWidgets": [],
       "schema": [
        {
         "metadata": "{}",
         "name": "maincateg",
         "type": "\"string\""
        },
        {
         "metadata": "{}",
         "name": "total_reviews",
         "type": "\"long\""
        }
       ],
       "type": "table"
      }
     },
     "output_type": "display_data"
    },
    {
     "output_type": "display_data",
     "data": {
      "text/plain": [
       "Databricks visualization. Run in Databricks to view."
      ]
     },
     "metadata": {
      "application/vnd.databricks.v1.subcommand+json": {
       "baseErrorDetails": null,
       "bindings": {},
       "collapsed": false,
       "command": "%python\n__backend_agg_display_orig = display\n__backend_agg_dfs = []\ndef __backend_agg_display_new(df):\n    __backend_agg_df_modules = [\"pandas.core.frame\", \"databricks.koalas.frame\", \"pyspark.sql.dataframe\", \"pyspark.pandas.frame\", \"pyspark.sql.connect.dataframe\"]\n    if (type(df).__module__ in __backend_agg_df_modules and type(df).__name__ == 'DataFrame') or isinstance(df, list):\n        __backend_agg_dfs.append(df)\n\ndisplay = __backend_agg_display_new\n\ndef __backend_agg_user_code_fn():\n    import base64\n    exec(base64.standard_b64decode(\"IyBEaXNwbGF5IEJhciBjaGFydCBvZiB0b3RhbCBudW1iZXIgb2YgcmV2aWV3cyBwZXIgY2F0ZWdvcnkKZGlzcGxheShmbGlwa2FydF9kZi5ncm91cEJ5KCJtYWluY2F0ZWciKS5hZ2coc3VtKCJub3Jldmlld3MxIikuYWxpYXMoInRvdGFsX3Jldmlld3MiKSkp\").decode())\n\ntry:\n    # run user code\n    __backend_agg_user_code_fn()\n\n    #reset display function\n    display = __backend_agg_display_orig\n\n    if len(__backend_agg_dfs) > 0:\n        # create a temp view\n        if type(__backend_agg_dfs[0]).__module__ == \"databricks.koalas.frame\":\n            # koalas dataframe\n            __backend_agg_dfs[0].to_spark().createOrReplaceTempView(\"DatabricksViewc03942b\")\n        elif type(__backend_agg_dfs[0]).__module__ == \"pandas.core.frame\" or isinstance(__backend_agg_dfs[0], list):\n            # pandas dataframe\n            spark.createDataFrame(__backend_agg_dfs[0]).createOrReplaceTempView(\"DatabricksViewc03942b\")\n        else:\n            __backend_agg_dfs[0].createOrReplaceTempView(\"DatabricksViewc03942b\")\n        #run backend agg\n        display(spark.sql(\"\"\"WITH q AS (select * from DatabricksViewc03942b) SELECT `maincateg`,SUM(`total_reviews`) `column_75172872158` FROM q GROUP BY `maincateg`\"\"\"))\n    else:\n        displayHTML(\"dataframe no longer exists. If you're using dataframe.display(), use display(dataframe) instead.\")\n\n\nfinally:\n    spark.sql(\"drop view if exists DatabricksViewc03942b\")\n    display = __backend_agg_display_orig\n    del __backend_agg_display_new\n    del __backend_agg_display_orig\n    del __backend_agg_dfs\n    del __backend_agg_user_code_fn\n\n",
       "commandTitle": "Visualization 1",
       "commandType": "auto",
       "commandVersion": 0,
       "commentThread": [],
       "commentsVisible": false,
       "contentSha256Hex": null,
       "customPlotOptions": {
        "redashChart": [
         {
          "key": "type",
          "value": "CHART"
         },
         {
          "key": "options",
          "value": {
           "alignYAxesAtZero": true,
           "coefficient": 1,
           "columnConfigurationMap": {
            "x": {
             "column": "maincateg",
             "id": "column_75172872157"
            },
            "y": [
             {
              "column": "total_reviews",
              "id": "column_75172872158",
              "transform": "SUM"
             }
            ]
           },
           "dateTimeFormat": "DD/MM/YYYY HH:mm",
           "direction": {
            "type": "counterclockwise"
           },
           "error_y": {
            "type": "data",
            "visible": true
           },
           "globalSeriesType": "column",
           "isAggregationOn": true,
           "legend": {
            "traceorder": "normal"
           },
           "missingValuesAsZero": true,
           "numberFormat": "0,0.[00000]",
           "percentFormat": "0[.]00%",
           "series": {
            "error_y": {
             "type": "data",
             "visible": true
            },
            "stacking": null
           },
           "seriesOptions": {
            "column_75172872158": {
             "color": "#FB8D3D",
             "name": "total_reviews",
             "yAxis": 0
            }
           },
           "showDataLabels": false,
           "sizemode": "diameter",
           "sortX": true,
           "sortY": true,
           "swappedAxes": false,
           "textFormat": "",
           "useAggregationsUi": true,
           "valuesOptions": {},
           "version": 2,
           "xAxis": {
            "labels": {
             "enabled": true
            },
            "type": "-"
           },
           "yAxis": [
            {
             "type": "-"
            },
            {
             "opposite": true,
             "type": "-"
            }
           ]
          }
         }
        ]
       },
       "datasetPreviewNameToCmdIdMap": {},
       "diffDeletes": [],
       "diffInserts": [],
       "displayType": "redashChart",
       "error": null,
       "errorDetails": null,
       "errorSummary": null,
       "errorTraceType": null,
       "finishTime": 0,
       "globalVars": {},
       "guid": "",
       "height": "auto",
       "hideCommandCode": false,
       "hideCommandResult": false,
       "iPythonMetadata": null,
       "inputWidgets": {},
       "isLockedInExamMode": false,
       "latestUser": "a user",
       "latestUserId": null,
       "listResultMetadata": null,
       "metadata": {},
       "nuid": "0b420f55-e794-40e6-bc7e-5512801238c8",
       "origId": 0,
       "parentHierarchy": [],
       "pivotAggregation": null,
       "pivotColumns": null,
       "position": 22.0,
       "resultDbfsErrorMessage": null,
       "resultDbfsStatus": "INLINED_IN_TREE",
       "results": null,
       "showCommandTitle": false,
       "startTime": 0,
       "state": "input",
       "streamStates": {},
       "subcommandOptions": {
        "queryPlan": {
         "groups": [
          {
           "column": "maincateg",
           "type": "column"
          }
         ],
         "selects": [
          {
           "column": "maincateg",
           "type": "column"
          },
          {
           "alias": "column_75172872158",
           "args": [
            {
             "column": "total_reviews",
             "type": "column"
            }
           ],
           "function": "SUM",
           "type": "function"
          }
         ]
        }
       },
       "submitTime": 0,
       "subtype": "tableResultSubCmd.visualization",
       "tableResultIndex": 0,
       "tableResultSettingsMap": {},
       "useConsistentColors": false,
       "version": "CommandV1",
       "width": "auto",
       "workflows": [],
       "xColumns": null,
       "yColumns": null
      }
     },
     "output_type": "display_data"
    }
   ],
   "source": [
    "# Display Bar chart of total number of reviews per category\n",
    "display(flipkart_df.groupBy(\"maincateg\").agg(sum(\"noreviews1\").alias(\"total_reviews\")))"
   ]
  },
  {
   "cell_type": "code",
   "execution_count": 0,
   "metadata": {
    "application/vnd.databricks.v1+cell": {
     "cellMetadata": {
      "byteLimit": 2048000,
      "rowLimit": 10000
     },
     "inputWidgets": {},
     "nuid": "5f5b6c97-839b-4c3a-a8c5-4533aebf793e",
     "showTitle": false,
     "tableResultSettingsMap": {},
     "title": ""
    }
   },
   "outputs": [
    {
     "output_type": "display_data",
     "data": {
      "text/html": [
       "<style scoped>\n",
       "  .table-result-container {\n",
       "    max-height: 300px;\n",
       "    overflow: auto;\n",
       "  }\n",
       "  table, th, td {\n",
       "    border: 1px solid black;\n",
       "    border-collapse: collapse;\n",
       "  }\n",
       "  th, td {\n",
       "    padding: 5px;\n",
       "  }\n",
       "  th {\n",
       "    text-align: left;\n",
       "  }\n",
       "</style><div class='table-result-container'><table class='table-result'><thead style='background-color: white'><tr><th>title</th><th>star_5f</th></tr></thead><tbody><tr><td>Jio-13 Running Shoes For Men  (Black, Grey)</td><td>151193</td></tr><tr><td>Running Shoes For Men  (Silver, Black)</td><td>151193</td></tr></tbody></table></div>"
      ]
     },
     "metadata": {
      "application/vnd.databricks.v1+output": {
       "addedWidgets": {},
       "aggData": [],
       "aggError": "",
       "aggOverflow": false,
       "aggSchema": [],
       "aggSeriesLimitReached": false,
       "aggType": "",
       "arguments": {},
       "columnCustomDisplayInfos": {},
       "data": [
        [
         "Jio-13 Running Shoes For Men  (Black, Grey)",
         151193
        ],
        [
         "Running Shoes For Men  (Silver, Black)",
         151193
        ]
       ],
       "datasetInfos": [],
       "dbfsResultPath": null,
       "isJsonSchema": true,
       "metadata": {},
       "overflow": false,
       "plotOptions": {
        "customPlotOptions": {},
        "displayType": "table",
        "pivotAggregation": null,
        "pivotColumns": null,
        "xColumns": null,
        "yColumns": null
       },
       "removedWidgets": [],
       "schema": [
        {
         "metadata": "{}",
         "name": "title",
         "type": "\"string\""
        },
        {
         "metadata": "{}",
         "name": "star_5f",
         "type": "\"integer\""
        }
       ],
       "type": "table"
      }
     },
     "output_type": "display_data"
    }
   ],
   "source": [
    "# Display product name and 5 star rating for those products which have highest 5 star rating\n",
    "\n",
    "\n",
    "from pyspark.sql.functions import max\n",
    "\n",
    "# Step 1: Get the max value of 5-star ratings\n",
    "# max_5_star = flipkart_df.agg(max('star_5f').alias('max_5_star')).collect()[0]['max_5_star']\n",
    "max_5_star = flipkart_df.select(max('star_5f')).first()[0]\n",
    "# Step 2: Filter products with that max 5-star rating and display name and rating\n",
    "display(flipkart_df.filter(flipkart_df['star_5f'] == max_5_star) .select('title', 'star_5f') )"
   ]
  },
  {
   "cell_type": "code",
   "execution_count": 0,
   "metadata": {
    "application/vnd.databricks.v1+cell": {
     "cellMetadata": {},
     "inputWidgets": {},
     "nuid": "99b09347-aaf9-4774-90de-eae957cd52f7",
     "showTitle": false,
     "tableResultSettingsMap": {},
     "title": ""
    }
   },
   "outputs": [],
   "source": []
  }
 ],
 "metadata": {
  "application/vnd.databricks.v1+notebook": {
   "computePreferences": null,
   "dashboards": [],
   "environmentMetadata": null,
   "inputWidgetPreferences": null,
   "language": "python",
   "notebookMetadata": {
    "pythonIndentUnit": 4
   },
   "notebookName": "Flipkart_EDA_Assignment",
   "widgets": {}
  },
  "kernelspec": {
   "display_name": "Python 3",
   "language": "python",
   "name": "python3"
  },
  "language_info": {
   "name": "python",
   "version": "3.8"
  }
 },
 "nbformat": 4,
 "nbformat_minor": 0
}